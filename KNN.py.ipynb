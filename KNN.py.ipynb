{
 "cells": [
  {
   "cell_type": "code",
   "execution_count": 1,
   "metadata": {},
   "outputs": [
    {
     "name": "stdout",
     "output_type": "stream",
     "text": [
      "Enter the data instances\n",
      "[5.656854249492381, 2.8284271247461903]\n",
      "[5.656854249492381, 8.48528137423857]\n",
      "[2.8284271247461903, 5.656854249492381, 5.656854249492381, 8.48528137423857]\n",
      "Enter the value of k\n",
      "2\n",
      "The point belongs to cluster1\n"
     ]
    }
   ],
   "source": [
    "import numpy as np\n",
    "from math import sqrt\n",
    "First_cluster= np.array([[3,4],[5,6]])\n",
    "Second_cluster = np.array([[11,12],[13,14]])\n",
    "print(\"Enter the data instances\")\n",
    "c = 7\n",
    "d = 8\n",
    "dist = 0\n",
    "list_a = []\n",
    "list_b = []\n",
    "for i in range(0,len(First_cluster)):\n",
    "    j=0\n",
    "    a = sqrt((First_cluster[i,j]-c)**2 + (First_cluster[i,j+1]-d)**2)\n",
    "    list_a.append(a)\n",
    "    b = sqrt((Second_cluster[i,j]-c)**2 + (Second_cluster[i,j+1]-d)**2)\n",
    "    list_b.append(b)\n",
    "print(list_a)\n",
    "print(list_b)\n",
    "list_c = list_a\n",
    "list_c.extend(list_b)\n",
    "list_c.sort()\n",
    "print(list_c)\n",
    "print(\"Enter the value of k\")\n",
    "k = int(input())\n",
    "x = 0\n",
    "y = 0\n",
    "for m in range(0,k-1):\n",
    "    for n in range(0,len(list_a)-1):\n",
    "        if(list_a[n] == list_c[m]):\n",
    "            x = x + 1\n",
    "    for p in range(0,len(list_b)-1):\n",
    "        if(list_b[p] == list_c[m]):\n",
    "            y = y + 1\n",
    "\n",
    "if(x>y):\n",
    "    print(\"The point belongs to cluster1\")\n",
    "elif(y>x):\n",
    "    print(\"The point belongs to cluster2\")"
   ]
  },
  {
   "cell_type": "code",
   "execution_count": null,
   "metadata": {},
   "outputs": [],
   "source": []
  }
 ],
 "metadata": {
  "kernelspec": {
   "display_name": "Python 3",
   "language": "python",
   "name": "python3"
  },
  "language_info": {
   "codemirror_mode": {
    "name": "ipython",
    "version": 3
   },
   "file_extension": ".py",
   "mimetype": "text/x-python",
   "name": "python",
   "nbconvert_exporter": "python",
   "pygments_lexer": "ipython3",
   "version": "3.7.3"
  }
 },
 "nbformat": 4,
 "nbformat_minor": 2
}
